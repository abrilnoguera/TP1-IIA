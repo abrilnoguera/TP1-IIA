{
 "cells": [
  {
   "cell_type": "markdown",
   "metadata": {},
   "source": [
    "<div style=\"text-align: center;\">\n",
    "    <h1> <font style=\"bold\"> Trabajo Práctico 1 </font></h1>\n",
    "    <h2><font style=\"bold\">Algoritmos de Busqueda en Torres de Hanoi</font></h2>\n",
    "    <h3><font style=\"bold\">Abril Noguera - Pablo Brahim - Fermin Rodriguez - Kevin Pennington</font></h3>\n",
    "</div>"
   ]
  },
  {
   "cell_type": "markdown",
   "metadata": {},
   "source": [
    "En clase presentamos el problema de la torre de Hanoi. Además, vimos diferentes algoritmos de búsqueda que nos \n",
    "permitieron resolver este problema. Para este trabajo práctico, deberán implementar un método de búsqueda para \n",
    "resolver con 5 discos, del estado inicial y objetivo que se observa en la siguiente imagen:\n",
    "\n",
    "![Torres Hanoi](./torres.png \"Torres Hanoi\")\n"
   ]
  },
  {
   "cell_type": "markdown",
   "metadata": {},
   "source": [
    "--- \n",
    "\n",
    "### 1. ¿Cuáles son los PEAS de este problema? (Performance, Environment, Actuators, Sensors)"
   ]
  },
  {
   "cell_type": "markdown",
   "metadata": {},
   "source": [
    "#### Supuesto del Problema\n",
    "\n",
    "El problema de las **Torres de Hanoi** consiste en trasladar un conjunto de **5 discos** desde una **varilla inicial** a una **varilla final**, utilizando una **varilla auxiliar**, siguiendo reglas estrictas:\n",
    "\n",
    "1. Solo se puede mover un disco a la vez.\n",
    "2. Cada movimiento translada un disco de una varilla a otra.\n",
    "2. Un disco no puede colocarse sobre otro más pequeño.\n",
    "3. El objetivo es mover todos los discos a la última varilla en la menor cantidad de movimientos posible.\n",
    "\n",
    "Para esta simulación en **Python**, consideramos un **agente computacional** que toma decisiones y ejecuta movimientos basados en un algoritmo de búsqueda, asegurando que los movimientos sean válidos y eficientes. \n",
    "\n",
    "El **estado inicial** es un conjunto de 5 discos apilados en la primera varilla, mientras que el **estado final** se alcanza cuando todos los discos están en la tercera varilla, en el mismo orden.\n",
    "\n",
    "#### Especificación del Entorno (PEAS)\n",
    "\n",
    "| **Categoría**       | **Descripción** |\n",
    "|-------------------|-------------------------------|\n",
    "| **Performance** | - Minimizar la cantidad de movimientos. <br> - Cumplir con las reglas del juego. <br> - Resolver el problema en el menor tiempo computacional posible.  <br> - Resolver el problema en el menor costo computacional (memoria) posible. |\n",
    "| **Environment** | - Tres varillas representadas como listas. <br> - Cinco discos de diferentes tamaños, representados como enteros segun su tamaño. |\n",
    "| **Actuators** | - Mover un disco de una varilla a otra, validando reglas. <br> - Ejecutar movimientos en `ActionHanoi`. |\n",
    "| **Sensors** | - Estado actual de las varillas y posición de los discos. <br> - Validación de movimientos permitidos. <br> - Número de discos que no estan en la varilla objetivo. |\n"
   ]
  },
  {
   "cell_type": "markdown",
   "metadata": {},
   "source": [
    "--- \n",
    "### 2. ¿Cuáles son las propiedades del entorno de trabajo?"
   ]
  },
  {
   "cell_type": "markdown",
   "metadata": {},
   "source": [
    "#### Propiedades del entorno\n",
    "\n",
    "El problema de la Torre de Hanoi se resuelve en un entorno:\n",
    "- **Observable:** Ves todos los discos en todo momento.\n",
    "- **Determinista:** Cada movimiento tiene un resultado predecible, no hay aleatoriedad.\n",
    "- **Secuencial:** Requiere una serie de movimientos planificados (no es un solo paso).\n",
    "- **Estático:** El entorno no cambia solo, necesitan que un actor los mueva.\n",
    "- **Discreto:** Estados y acciones claros (mover un disco de un poste a otro).\n",
    "- **Agente individual:** Solo un actor, no hay oponentes ni cooperación."
   ]
  },
  {
   "cell_type": "markdown",
   "metadata": {},
   "source": [
    "---\n",
    "### 3. En el contexto de este problema, establezca cuáles son los: estado, espacio de estados, árbol de búsqueda, nodo de búsqueda, objetivo, acción y frontera."
   ]
  },
  {
   "cell_type": "markdown",
   "metadata": {},
   "source": [
    "- **Estado:** El estado representa cómo estan distribuidos los discos en los tres postes en un momento determinado, osea, en qué torre esta cada disco y en qué orden.\n",
    "- **Espacio de estados:** El espacio de estados es el conjunto de todas las configuraciones posibles de los discos en todas las torres.\n",
    "- **Árbol de búsqueda:** El árbol de búsqueda es la estructura que representa todas las posibles secuencias de movimientos desde el estado inicial hasta el estado objetivo. En este caso, cada nodo es una configuración de discos, cada rama es una acción que une un estado con otro (haciendo movimientos legales)\n",
    "- **Nodo de búsqueda:** Un nódo de busqueda es un estado específico del árbol donde también sabemos el nodo del que vino, la acción que llevo a ese estado y la profunidad del árbol.\n",
    "- **Objetivo:** El objetivo en este contexto es llegar a un estado en donde todos los discos esten en la torre destino y en el orden correcto (del más grande abajo al más chico arriba de todo)\n",
    "- **Acción:** Una acción es mover el disco superior de una torre a otra, cumpliendo con las reglas del problema.\n",
    "- **Frontera:** La frontera es el conjunto de nodos generados pero aún no explorados en el arbol de búsqueda, osea los siguientes candidatos a ser expandidos (dependiendo el algoritmo utilizado)"
   ]
  },
  {
   "cell_type": "markdown",
   "metadata": {},
   "source": [
    "--- \n",
    "\n",
    "### 4. Implemente algún método de búsqueda. Puedes elegir cualquiera menos búsqueda en anchura primero (el desarrollado en clase). Sos libre de elegir cualquiera de los vistos en clases, o inclusive buscar nuevos."
   ]
  },
  {
   "cell_type": "markdown",
   "metadata": {},
   "source": [
    "#### Algoritmo de Busqueda A*"
   ]
  },
  {
   "cell_type": "code",
   "execution_count": 6,
   "metadata": {},
   "outputs": [],
   "source": [
    "from aima_libs.hanoi_states import ProblemHanoi, StatesHanoi\n",
    "from aima_libs.tree_hanoi import NodeHanoi\n",
    "from aima_libs.aima import PriorityQueue"
   ]
  },
  {
   "cell_type": "markdown",
   "metadata": {},
   "source": [
    "##### Función Heurística "
   ]
  },
  {
   "cell_type": "markdown",
   "metadata": {},
   "source": [
    "1. Heurística Basada en Discos Correctos\n",
    "\n",
    "Esta heurística cuenta cuántos discos están correctamente colocados en la torre final, desde arriba hacia abajo.\n",
    "Al encontrar discos mal ubicados, deja de contar, y estima el número restante de discos por colocar correctamente.\n",
    "\n",
    "- Ventaja: heurística simple, consistente y rápida.\n",
    "- Desventaja: puede ser poco informativa en etapas tempranas, ya que solo observa la parte correcta del estado final."
   ]
  },
  {
   "cell_type": "code",
   "execution_count": 17,
   "metadata": {},
   "outputs": [],
   "source": [
    "def heuristic_correct(node, goal):\n",
    "    state = node.state\n",
    "    state_rod = state.rods[2]\n",
    "    goal_rod = goal.rods[2]\n",
    "    count = 0\n",
    "\n",
    "    # Cuenta cuántos discos están en la posición correcta\n",
    "    for a, b in zip(state_rod, goal_rod):\n",
    "        print(f\"{a} {b}\")\n",
    "        if a == b:\n",
    "            print(\"ok\")\n",
    "            count += 1\n",
    "        else:\n",
    "            break  \n",
    "        \n",
    "    return len(goal_rod) - count"
   ]
  },
  {
   "cell_type": "markdown",
   "metadata": {},
   "source": [
    "2. Heurística Basada en Discos Fuera de Lugar\n",
    "\n",
    "Esta heurística penaliza:\n",
    "    - Cada disco que aún está en las torres intermedias o inicial.\n",
    "    - El desorden en la torre final, sumando un costo adicional si los discos colocados allí no siguen el orden esperado del objetivo.\n",
    "\n",
    "\n",
    "- Ventaja: más sensible al estado global, detecta desorden y discos pendientes. Se obtiene una estimación más informada del número de movimientos restantes.\n",
    "- Desventaja: más costosa computacionalmente, pero sigue siendo eficiente."
   ]
  },
  {
   "cell_type": "code",
   "execution_count": 11,
   "metadata": {},
   "outputs": [],
   "source": [
    "def heuristic_incorrect(node, goal):\n",
    "    state = node.state\n",
    "    state_rod = state.rods[2]\n",
    "    goal_rod = goal.rods[2]\n",
    "    h = 0\n",
    "\n",
    "    # Penaliza cada disco que no está en la torre final\n",
    "    for rod_index in [0, 1]:\n",
    "        h += len(state.rods[rod_index])\n",
    "\n",
    "    # Penaliza si hay discos mal ubicados en la torre final\n",
    "    for i, (actual, expected) in enumerate(zip(state_rod, goal_rod)):\n",
    "        if actual != expected:\n",
    "            h += len(goal_rod) - i  # Penaliza por cuántos discos están mal a partir del error\n",
    "            break\n",
    "\n",
    "    return h"
   ]
  },
  {
   "cell_type": "markdown",
   "metadata": {},
   "source": [
    "##### Algoritmo de Busqueda"
   ]
  },
  {
   "cell_type": "code",
   "execution_count": 13,
   "metadata": {},
   "outputs": [],
   "source": [
    "def astar_search(heuristic_func, number_disks=5):\n",
    "    # Inicializamos el problema\n",
    "    list_disks = [i for i in range(number_disks, 0, -1)]\n",
    "    initial_state = StatesHanoi(list_disks, [], [], max_disks=number_disks)\n",
    "    goal_state = StatesHanoi([], [], list_disks, max_disks=number_disks)\n",
    "    problem = ProblemHanoi(initial=initial_state, goal=goal_state)\n",
    "\n",
    "    def f(node):\n",
    "        return node.path_cost + heuristic_func(node, goal_state)\n",
    "    \n",
    "    # Creamos el set con estados ya visitados\n",
    "    explored = set()\n",
    "    node = NodeHanoi(problem.initial)\n",
    "    frontier = PriorityQueue(f=f, order='min')\n",
    "\n",
    "    frontier.append(node)\n",
    "\n",
    "    node_explored = 0\n",
    "\n",
    "    # Creamos una cola de prioridad con el nodo inicial\n",
    "    if problem.goal_test(node.state):\n",
    "        metrics = {\n",
    "                \"solution_found\": True,\n",
    "                \"nodes_explored\": node_explored,\n",
    "                \"states_visited\": len(explored),\n",
    "                \"nodes_in_frontier\": len(frontier),\n",
    "                \"max_depth\": node.depth,\n",
    "                \"cost_total\": node.state.accumulated_cost\n",
    "            }\n",
    "        return node, metrics\n",
    "    \n",
    "    while len(frontier) != 0:\n",
    "        node = frontier.pop()[1]\n",
    "        node_explored += 1\n",
    "        \n",
    "        # Agregamos el estado del nodo al set. Esto evita guardar duplicados, porque set nunca tiene elementos repetidos\n",
    "        explored.add(node.state)\n",
    "        \n",
    "        if problem.goal_test(node.state):  # Comprobamos si hemos alcanzado el estado objetivo\n",
    "            metrics = {\n",
    "                \"solution_found\": True,\n",
    "                \"nodes_explored\": node_explored,\n",
    "                \"states_visited\": len(explored),\n",
    "                \"nodes_in_frontier\": len(frontier),\n",
    "                \"max_depth\": node.depth,\n",
    "                \"cost_total\": node.state.accumulated_cost\n",
    "            }\n",
    "            return node, metrics\n",
    "        \n",
    "        # Agregamos a la cola todos los nodos sucesores del nodo actual\n",
    "        for next_node in node.expand(problem):\n",
    "            # Solo si el estado del nodo no fue explorado\n",
    "            if next_node.state not in explored:\n",
    "                frontier.append(next_node)\n",
    "            elif next_node in frontier:\n",
    "                # Si ya está en la frontera, actualizamos su costo si es menor\n",
    "                if f(next_node) < frontier[next_node]:\n",
    "                    del frontier[next_node]\n",
    "                    frontier.append(next_node)\n",
    "\n",
    "    # Si no se encontro la solución, devolvemos la métricas igual\n",
    "    metrics = {\n",
    "        \"solution_found\": False,\n",
    "        \"nodes_explored\": node_explored,\n",
    "        \"states_visited\": len(explored),\n",
    "        \"nodes_in_frontier\": len(frontier),\n",
    "        \"max_depth\": node.depth, # OBS: Si no se encontró la solución, este valor solo tiene sentido en breadth_first_search, en otros casos se debe ir llevando registro de cual fue la máxima profundidad\n",
    "        \"cost_total\": None\n",
    "    }\n",
    "    return None, metrics"
   ]
  },
  {
   "cell_type": "markdown",
   "metadata": {},
   "source": [
    "##### Resultados"
   ]
  },
  {
   "cell_type": "code",
   "execution_count": null,
   "metadata": {},
   "outputs": [
    {
     "name": "stdout",
     "output_type": "stream",
     "text": [
      "Ejecutando A* con la heurística heuristic_correct\n",
      "Solución encontrada: [[], [], [5, 4, 3, 2, 1]]\n",
      "** Ejecutar: python3 simulator.py ./initial_state_heuristic_correct.json ./sequence_heuristic_correct.json\n",
      "Métricas:\n",
      "    - solution_found: True\n",
      "    - nodes_explored: 268\n",
      "    - states_visited: 169\n",
      "    - nodes_in_frontier: 18\n",
      "    - max_depth: 31\n",
      "    - cost_total: 31.0\n",
      "----------------------------------------\n",
      "Ejecutando A* con la heurística heuristic_incorrect\n",
      "Solución encontrada: [[], [], [5, 4, 3, 2, 1]]\n",
      "** Ejecutar: python3 simulator.py ./initial_state_heuristic_incorrect.json ./sequence_heuristic_incorrect.json\n",
      "Métricas:\n",
      "    - solution_found: True\n",
      "    - nodes_explored: 222\n",
      "    - states_visited: 146\n",
      "    - nodes_in_frontier: 19\n",
      "    - max_depth: 31\n",
      "    - cost_total: 31.0\n",
      "----------------------------------------\n"
     ]
    }
   ],
   "source": [
    "heuristics = [heuristic_correct, heuristic_incorrect]\n",
    "for h in heuristics:\n",
    "    print(f\"Ejecutando A* con la heurística {h.__name__}\")\n",
    "    solution, metrics = astar_search(h)\n",
    "    if solution:\n",
    "        print(f\"Solución encontrada: {solution.state.rods}\")\n",
    "        solution.generate_solution_for_simulator(initial_state_file=f\"./initial_state_{h.__name__}.json\",\n",
    "                                        sequence_file=f\"./sequence_{h.__name__}.json\")\n",
    "        \n",
    "        print(f\"** Ejecutar: python3 simulation_hanoi.py initial_state_{h.__name__}.json sequence_{h.__name__}.json\")\n",
    "\n",
    "    else:\n",
    "        print(\"No se encontró solución\")\n",
    "    print(f\"Métricas:\")\n",
    "    for key, value in metrics.items():\n",
    "        print(f\"    - {key}: {value}\")\n",
    "    print(\"-\" * 40)"
   ]
  },
  {
   "cell_type": "markdown",
   "metadata": {},
   "source": [
    "Execute: \n",
    "\n",
    "`poetry shell`\n",
    "\n",
    "`cd TP1/simulator`\n",
    "\n",
    "`python3 simulation_hanoi.py`"
   ]
  },
  {
   "cell_type": "markdown",
   "metadata": {},
   "source": [
    "- Ambas heurísticas encontraron la solución óptima, costo total de 31 movimientos ($2^k - 1$).\n",
    "- La `heuristic_incorrect` necesitó menos nodos explorados y menos estados visitados, lo que sugiere una mejor orientación hacia el objetivo."
   ]
  },
  {
   "cell_type": "markdown",
   "metadata": {},
   "source": [
    "--- \n",
    "### 5. ¿Qué complejidad en tiempo y memoria tiene el algoritmo elegido? "
   ]
  },
  {
   "cell_type": "markdown",
   "metadata": {},
   "source": [
    "La complejidad en tiempo de `A* search` es \n",
    "\\begin{cases} \n",
    "O(b \\cdot d), & \\text{(Mejor caso)} \\\\\n",
    "O(b^d), & \\text{(Avg)} \\\\\n",
    "O(b^d), & \\text{(Peor caso)}\n",
    "\\end{cases}\n",
    "[[George T. Heineman, Gary Pollice, Stanley Selkow, *Algorithms in a Nutshell*, 2008](https://www.oreilly.com/library/view/algorithms-in-a/9780596516246/)]\n",
    "\n",
    "donde $b$ es el _branching factor_ o máximo número de sucesores de cada nodo ( $b = 2$ para nuestro problema) y $d$ es la profundidad de la solución hallada ($2^k -1$)\n",
    "\n",
    "La complejidad en memoria de `A* search` es también (peor caso) $O(b^d)$, ya que es necesario mantener en memoria todos los nodos explorados para poder reevaluar las métricas. \n",
    "[[Russel & Norvig, AIMA](https://aima.cs.berkeley.edu/)]"
   ]
  },
  {
   "cell_type": "markdown",
   "metadata": {},
   "source": [
    "--- \n",
    "### 6. A nivel implementación, ¿qué tiempo y memoria ocupa el algoritmo? (Se recomienda correr 10 veces y calcular promedio y desvío estándar de las métricas)."
   ]
  },
  {
   "cell_type": "code",
   "execution_count": 24,
   "metadata": {},
   "outputs": [],
   "source": [
    "# %pip install memory_profiler --quiet"
   ]
  },
  {
   "cell_type": "code",
   "execution_count": 20,
   "metadata": {},
   "outputs": [],
   "source": [
    "import time\n",
    "import statistics\n",
    "from memory_profiler import memory_usage"
   ]
  },
  {
   "cell_type": "code",
   "execution_count": 21,
   "metadata": {},
   "outputs": [],
   "source": [
    "def run_trial(heuristic_func):\n",
    "    start_time = time.time()\n",
    "\n",
    "    mem_usage, (node, metrics) = memory_usage(\n",
    "        (astar_search, (heuristic_func,), {'number_disks': 5}),\n",
    "        retval=True,\n",
    "        max_usage=True\n",
    "    )\n",
    "\n",
    "    elapsed_time = time.time() - start_time\n",
    "    return elapsed_time, mem_usage, metrics"
   ]
  },
  {
   "cell_type": "code",
   "execution_count": 23,
   "metadata": {},
   "outputs": [
    {
     "name": "stdout",
     "output_type": "stream",
     "text": [
      "Resultados A* con la heurística heuristic_correct\n",
      "Tiempo promedio: 0.7881s ± 0.0725s\n",
      "Memoria promedio: 51.87 MiB ± 11.62 MiB\n",
      "Nodos explorados: 268.00 ± 0.00\n",
      "Estados visitados: 169.00 ± 0.00\n",
      "----------------------------------------\n",
      "Resultados A* con la heurística heuristic_incorrect\n",
      "Tiempo promedio: 0.7945s ± 0.0136s\n",
      "Memoria promedio: 57.40 MiB ± 0.02 MiB\n",
      "Nodos explorados: 222.00 ± 0.00\n",
      "Estados visitados: 146.00 ± 0.00\n",
      "----------------------------------------\n"
     ]
    }
   ],
   "source": [
    "heuristics = [heuristic_correct, heuristic_incorrect]\n",
    "for h in heuristics:\n",
    "    print(f\"Resultados A* con la heurística {h.__name__}\")\n",
    "\n",
    "    # Ejecutar 10 veces\n",
    "    times = []\n",
    "    mems = []\n",
    "    nodes_explored = []\n",
    "    states_visited = []\n",
    "\n",
    "    for _ in range(10):\n",
    "        t, mem, m = run_trial(h)\n",
    "        times.append(t)\n",
    "        mems.append(mem)\n",
    "        nodes_explored.append(m['nodes_explored'])\n",
    "        states_visited.append(m['states_visited'])\n",
    "\n",
    "    # Mostrar resultados\n",
    "    print(f\"Tiempo promedio: {statistics.mean(times):.4f}s ± {statistics.stdev(times):.4f}s\")\n",
    "    print(f\"Memoria promedio: {statistics.mean(mems):.2f} MiB ± {statistics.stdev(mems):.2f} MiB\")\n",
    "    print(f\"Nodos explorados: {statistics.mean(nodes_explored):.2f} ± {statistics.stdev(nodes_explored):.2f}\")\n",
    "    print(f\"Estados visitados: {statistics.mean(states_visited):.2f} ± {statistics.stdev(states_visited):.2f}\")\n",
    "    print(\"-\" * 40)"
   ]
  },
  {
   "cell_type": "markdown",
   "metadata": {},
   "source": [
    "- `heuristic_incorrect` fue más eficiente en exploración, ya que requirió menos nodos y estados para alcanzar la solución óptima.\n",
    "- El tiempo de ejecución fue muy similar entre ambas heurísticas, con diferencias menores al 1%, aunque heuristic_correct presentó una mayor variabilidad.\n",
    "- La memoria utilizada fue ligeramente mayor en `heuristic_incorrect`, lo que podría explicarse por estructuras internas más complejas o mayor retención temporal de estados.\n",
    "\n",
    "Aunque ambas heurísticas permiten encontrar la **solución óptima**, `heuristic_incorrect` resulta más informativa y reduce el número de nodos explorados, lo que la convierte en una mejor opción cuando se busca optimizar el rendimiento del algoritmo. Su pequeño costo adicional en memoria es compensado por una mejor orientación de la búsqueda hacia el objetivo."
   ]
  },
  {
   "cell_type": "markdown",
   "metadata": {},
   "source": [
    "----\n",
    "### 7. Si la solución óptima es $2^k - 1$ movimientos con *k* igual al número de discos. Qué tan lejos está la solución del algoritmo implementado de esta solución óptima (se recomienda correr al menos 10 veces y usar el promedio de trayecto usado). "
   ]
  },
{
  "cell_type": "markdown",
  "metadata": {},
  "source": [
    "#### Distancia a la solución óptima\n",
    "\n",
    "`heuristic_correct`: 31 - ($2^5 - 1$) = 0,\n",
    "`heuristic_incorrect`: 31 - ($2^5 - 1$) = 0,\n",
    "El algoritmo halla la solución óptima en ambos casos."
  ]
},
{
   "cell_type": "markdown",
   "metadata": {},
   "source": []
  }
 ],
 "metadata": {
  "kernelspec": {
   "display_name": "Python 3 (ipykernel)",
   "language": "python",
   "name": "python3"
  },
  "language_info": {
   "codemirror_mode": {
    "name": "ipython",
    "version": 3
   },
   "file_extension": ".py",
   "mimetype": "text/x-python",
   "name": "python",
   "nbconvert_exporter": "python",
   "pygments_lexer": "ipython3",
   "version": "3.11.10"
  }
 },
 "nbformat": 4,
 "nbformat_minor": 4
}
